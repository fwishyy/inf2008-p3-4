{
  "nbformat": 4,
  "nbformat_minor": 0,
  "metadata": {
    "colab": {
      "provenance": []
    },
    "kernelspec": {
      "name": "python3",
      "display_name": "Python 3"
    },
    "language_info": {
      "name": "python"
    }
  },
  "cells": [
    {
      "cell_type": "markdown",
      "source": [
        "## INF2008 Machine Learning Assignment Submission 01"
      ],
      "metadata": {
        "id": "J-tFypfeOv9h"
      }
    },
    {
      "cell_type": "markdown",
      "source": [
        "**PLEASE Read the following submission instructions carefully!**"
      ],
      "metadata": {
        "id": "ipE-Ajc9Evpw"
      }
    },
    {
      "cell_type": "markdown",
      "source": [
        "The deadline for submission is end of Week 09, Friday 8th March 2359.\n",
        "\n",
        "There are two submissions.\n",
        "*   Submission one: the results of this notebook via an xsite quiz\n",
        "*   Submission two: pdf copy of your teams submission notebook via xsite dropbox.\n",
        "\n",
        "To submit do the following:\n",
        "1.   Replace the group_random_value1 and group_random_value2 in the next cell with your group random values.\n",
        "2.   Find all the cells with the #TODO and paste your correspoding codes there.\n",
        "3.   Run all and copy the outputs generated into the xsite quiz by the deadline.\n",
        "\n",
        "\n",
        "\n"
      ],
      "metadata": {
        "id": "sBO_VE1eFJ7Z"
      }
    },
    {
      "cell_type": "markdown",
      "source": [
        "How to calculate your group random values:\n",
        "\n",
        "Take the numerical portions of your student IDs and sum all of them together. Lets call this student_sum.\n",
        "\n",
        "*   group_random_value1 = student_sum mod 187\n",
        "*   group_random_value2 = student_sum mod 557\n",
        "\n",
        "For example, if the sum of all the student IDs in your team is 187441465, your group random values will be:\n",
        "\n",
        "Keith 2003269\n",
        "\n",
        "Davis 2003253\n",
        "\n",
        "Ivan 2003108\n",
        "\n",
        "Ri Chee 2200747\n",
        "\n",
        "8210377\n",
        "\n",
        "```\n",
        "group_random_value1 = 187441465 mod 187\n",
        "                    = 145\n",
        "\n",
        "group_random_value2 = 187441465 mod 557\n",
        "                    = 382\n",
        "```"
      ],
      "metadata": {
        "id": "anZS8yH9F2eZ"
      }
    },
    {
      "cell_type": "markdown",
      "source": [
        "To ensure that the outputs are correct, after pasting your codes, I highly recommend deleting the runtime, and then doing a run all.\n",
        "\n",
        "When you submit in the quiz, please just paste the output, without any other accompanying text etc..\n",
        "\n",
        "After that please save a copy of this notebook in pdf and submit it into the xsite dropbox.\n"
      ],
      "metadata": {
        "id": "h-tLaij2O2Wr"
      }
    },
    {
      "cell_type": "code",
      "source": [
        "# TODO Please change the group random values below. Very important!\n",
        "\n",
        "# these are the original values\n",
        "group_random_value1 = 42\n",
        "group_random_value2 = 5\n",
        "\n",
        "# please replace these two by your group random values\n",
        "# you can comment out the following two lines if you wish to regenerate the original values.\n",
        "group_random_value1 = 142\n",
        "group_random_value2 = 197\n",
        "\n",
        "# these are the original values\n",
        "random_value1 = group_random_value1\n",
        "random_value2 = group_random_value2"
      ],
      "metadata": {
        "id": "Bg1mVgPYov95"
      },
      "execution_count": null,
      "outputs": []
    },
    {
      "cell_type": "markdown",
      "source": [
        "### A1.0 Normalization. (2 marks)"
      ],
      "metadata": {
        "id": "006eintmoluU"
      }
    },
    {
      "cell_type": "code",
      "execution_count": null,
      "metadata": {
        "id": "HqgDhgXfwRkm"
      },
      "outputs": [],
      "source": [
        "# Provided Code\n",
        "import matplotlib.pyplot as plt\n",
        "from sklearn.datasets import make_blobs\n",
        "from sklearn.model_selection import train_test_split\n",
        "\n",
        "centers = [(-1, -1), (1, 1)]\n",
        "cluster_std = [1.5, 1.5]\n",
        "\n",
        "X, y = make_blobs(n_samples=100, cluster_std=cluster_std, centers=centers, n_features=2, random_state=1)\n",
        "X_train, X_test, y_train, y_test = train_test_split(X, y, test_size=0.33, random_state=random_value1)"
      ]
    },
    {
      "cell_type": "code",
      "source": [
        "import numpy as np\n",
        "# TODO: Normalize the training and testing data.\n",
        "\n",
        "def normalizedata(x_train, x_test):\n",
        "    # Calculate mean and standard deviation of training data\n",
        "    x_train_mean = np.mean(x_train, axis=0)\n",
        "    x_train_std = np.std(x_train, axis=0)\n",
        "\n",
        "    # Normalize training data\n",
        "    x_train_normalized = (x_train - x_train_mean) / x_train_std\n",
        "\n",
        "    # Normalize test data using mean and standard deviation of training data\n",
        "    x_test_normalized = (x_test - x_train_mean) / x_train_std\n",
        "\n",
        "    return x_train_normalized, x_test_normalized\n",
        "\n",
        "\n",
        "X_train, X_test = normalizedata(X_train, X_test)"
      ],
      "metadata": {
        "id": "UOD-u5QoN1Pc"
      },
      "execution_count": null,
      "outputs": []
    },
    {
      "cell_type": "markdown",
      "source": [
        "#### A1.0.1"
      ],
      "metadata": {
        "id": "GrHfJdVBpODf"
      }
    },
    {
      "cell_type": "code",
      "source": [
        "# TO RUN and submit in xsite\n",
        "# X_train and X_test should be the normalized values.\n",
        "print(X_train[:5])"
      ],
      "metadata": {
        "colab": {
          "base_uri": "https://localhost:8080/"
        },
        "id": "7pkv8GGTpD15",
        "outputId": "ceddf181-7f14-4a6b-8251-60848d5e05a7"
      },
      "execution_count": null,
      "outputs": [
        {
          "output_type": "stream",
          "name": "stdout",
          "text": [
            "[[ 0.44300146  1.065435  ]\n",
            " [-1.48010146  0.8278021 ]\n",
            " [-1.10164804 -1.07549481]\n",
            " [ 1.08006907 -0.07288196]\n",
            " [ 0.25208597  0.38951366]]\n"
          ]
        }
      ]
    },
    {
      "cell_type": "markdown",
      "source": [
        "#### A1.0.2"
      ],
      "metadata": {
        "id": "B3cTxVh0pQ0P"
      }
    },
    {
      "cell_type": "code",
      "source": [
        "# TO RUN and submit in xsite\n",
        "print(X_test[:5])"
      ],
      "metadata": {
        "colab": {
          "base_uri": "https://localhost:8080/"
        },
        "id": "E4csJvY5pM1r",
        "outputId": "8378bddb-a09c-4299-944a-cbbd2ec24e3f"
      },
      "execution_count": null,
      "outputs": [
        {
          "output_type": "stream",
          "name": "stdout",
          "text": [
            "[[-1.08720174  0.03543276]\n",
            " [ 0.91034055  0.88386129]\n",
            " [-0.69491235  1.28996629]\n",
            " [ 0.68600514 -0.70418231]\n",
            " [-2.10110375 -1.18586219]]\n"
          ]
        }
      ]
    },
    {
      "cell_type": "markdown",
      "source": [
        "#### A1.1 Create a simple MLP in pytorch. (5 marks)"
      ],
      "metadata": {
        "id": "uBd5fGEuKsZL"
      }
    },
    {
      "cell_type": "code",
      "source": [
        "# Provided Code\n",
        "import torch\n",
        "\n",
        "X_train_tensor = torch.FloatTensor(X_train)\n",
        "y_train_tensor = torch.LongTensor(y_train)\n",
        "\n",
        "X_test_tensor = torch.FloatTensor(X_test)\n",
        "y_test_tensor = torch.LongTensor(y_test)\n",
        "\n",
        "from torch.utils.data import TensorDataset, DataLoader\n",
        "\n",
        "# Create TensorDatasets\n",
        "train_dataset = TensorDataset(X_train_tensor, y_train_tensor)\n",
        "test_dataset = TensorDataset(X_test_tensor, y_test_tensor)\n",
        "\n",
        "# Create DataLoader\n",
        "batch_size = 8\n",
        "train_loader = DataLoader(dataset=train_dataset, batch_size=batch_size, shuffle=True)\n",
        "test_loader = DataLoader(dataset=test_dataset, batch_size=batch_size, shuffle=False)"
      ],
      "metadata": {
        "id": "IAvwQVKuhQhZ"
      },
      "execution_count": null,
      "outputs": []
    },
    {
      "cell_type": "code",
      "source": [
        "# TODO: Create the MLP module here.\n",
        "import torch\n",
        "import torch.nn as nn\n",
        "\n",
        "\n",
        "class MLP(nn.Module):\n",
        "    def __init__(self):\n",
        "        super().__init__()\n",
        "        self.layers = nn.Sequential()\n",
        "        self.layers.append(nn.Linear(2, 64))\n",
        "        self.layers.append(nn.ReLU())\n",
        "        self.layers.append(nn.Linear(64, 32))\n",
        "        self.layers.append(nn.ReLU())\n",
        "        self.layers.append(nn.Linear(32, 2))\n",
        "\n",
        "    def forward(self, x):\n",
        "        x = self.layers(x)\n",
        "\n",
        "        return x"
      ],
      "metadata": {
        "id": "09os7ttFP5uP"
      },
      "execution_count": null,
      "outputs": []
    },
    {
      "cell_type": "code",
      "source": [
        "# Provided Code\n",
        "device = torch.device('cuda' if torch.cuda.is_available() else 'cpu')\n",
        "model = MLP().to(device)"
      ],
      "metadata": {
        "id": "5LkKIklARefW"
      },
      "execution_count": null,
      "outputs": []
    },
    {
      "cell_type": "code",
      "source": [
        "# TODO: Create the optimizer here\n",
        "loss_function = nn.CrossEntropyLoss()\n",
        "optimizer = torch.optim.Adagrad(model.parameters(), lr=0.001)"
      ],
      "metadata": {
        "id": "MThP8hagRy3R"
      },
      "execution_count": null,
      "outputs": []
    },
    {
      "cell_type": "code",
      "source": [
        "# TODO: Create the training loop here\n",
        "num_epocs = 100\n",
        "\n",
        "for epoc in range(num_epocs):\n",
        "    for inputs, labels in train_loader:\n",
        "        # Zero the gradients\n",
        "        optimizer.zero_grad()\n",
        "\n",
        "        # Forward pass\n",
        "        outputs = model(inputs)\n",
        "\n",
        "        # Calculate the loss\n",
        "        loss = loss_function(outputs, labels)\n",
        "\n",
        "        # Backward pass\n",
        "        loss.backward()\n",
        "\n",
        "        # Update weights\n",
        "        optimizer.step()\n",
        "\n",
        "    if epoc % 20 == 0:\n",
        "        print(f'Epoc {epoc + 1}/{num_epocs}, Loss: {loss.item()}')"
      ],
      "metadata": {
        "colab": {
          "base_uri": "https://localhost:8080/"
        },
        "id": "IYvH693IRJKb",
        "outputId": "73153c20-5f37-4654-fd05-27450c343847"
      },
      "execution_count": null,
      "outputs": [
        {
          "output_type": "stream",
          "name": "stdout",
          "text": [
            "Epoc 1/100, Loss: 0.6871647238731384\n",
            "Epoc 21/100, Loss: 0.47603702545166016\n",
            "Epoc 41/100, Loss: 0.638272225856781\n",
            "Epoc 61/100, Loss: 0.4310370683670044\n",
            "Epoc 81/100, Loss: 0.496544748544693\n"
          ]
        }
      ]
    },
    {
      "cell_type": "code",
      "source": [
        "# TODO Evaluate the model accuracy\n",
        "model.eval()\n",
        "\n",
        "correct = 0\n",
        "total = 0\n",
        "\n",
        "with torch.no_grad():\n",
        "    for inputs, labels, in test_loader:\n",
        "        # set the forward pass\n",
        "        outputs = model(inputs)\n",
        "\n",
        "        # get predictions\n",
        "        _, predictions = torch.max(outputs, 1)\n",
        "\n",
        "        batch_size = labels.size(0)\n",
        "\n",
        "        # get the number of observations in batch\n",
        "        total += batch_size\n",
        "\n",
        "        # get the number of correct predictions\n",
        "        for prediction, label in zip(predictions, labels):\n",
        "            correct += (prediction == label)"
      ],
      "metadata": {
        "id": "8vudQ0wEbxbJ"
      },
      "execution_count": null,
      "outputs": []
    },
    {
      "cell_type": "markdown",
      "source": [
        "#### A1.1.1"
      ],
      "metadata": {
        "id": "Bu632G_QqBtn"
      }
    },
    {
      "cell_type": "code",
      "source": [
        "# TO RUN and submit in xsite\n",
        "accuracy = correct / total\n",
        "print(f'{accuracy * 100:.2f}%')"
      ],
      "metadata": {
        "colab": {
          "base_uri": "https://localhost:8080/"
        },
        "id": "7Ndq2bOuqB_I",
        "outputId": "1fdc964f-bef9-4b02-a0dc-2a0ecadb785d"
      },
      "execution_count": null,
      "outputs": [
        {
          "output_type": "stream",
          "name": "stdout",
          "text": [
            "90.91%\n"
          ]
        }
      ]
    },
    {
      "cell_type": "markdown",
      "source": [
        "#### A1.2 Create a simple perceptron using sklearn. (3 marks)"
      ],
      "metadata": {
        "id": "WSHzLOqcnyVj"
      }
    },
    {
      "cell_type": "code",
      "source": [
        "#TODO\n",
        "from sklearn.neural_network import MLPClassifier\n",
        "\n",
        "clf = MLPClassifier(hidden_layer_sizes=(), solver='lbfgs', max_iter=1000, alpha=0.001, random_state=1)\n",
        "clf.fit(X_train, y_train)"
      ],
      "metadata": {
        "colab": {
          "base_uri": "https://localhost:8080/",
          "height": 112
        },
        "id": "m6NcPMvXTRu1",
        "outputId": "3a156639-7947-41b7-987e-ba764a1bb84c"
      },
      "execution_count": null,
      "outputs": [
        {
          "output_type": "execute_result",
          "data": {
            "text/plain": [
              "MLPClassifier(alpha=0.001, hidden_layer_sizes=(), max_iter=1000, random_state=1,\n",
              "              solver='lbfgs')"
            ],
            "text/html": [
              "<style>#sk-container-id-6 {color: black;background-color: white;}#sk-container-id-6 pre{padding: 0;}#sk-container-id-6 div.sk-toggleable {background-color: white;}#sk-container-id-6 label.sk-toggleable__label {cursor: pointer;display: block;width: 100%;margin-bottom: 0;padding: 0.3em;box-sizing: border-box;text-align: center;}#sk-container-id-6 label.sk-toggleable__label-arrow:before {content: \"▸\";float: left;margin-right: 0.25em;color: #696969;}#sk-container-id-6 label.sk-toggleable__label-arrow:hover:before {color: black;}#sk-container-id-6 div.sk-estimator:hover label.sk-toggleable__label-arrow:before {color: black;}#sk-container-id-6 div.sk-toggleable__content {max-height: 0;max-width: 0;overflow: hidden;text-align: left;background-color: #f0f8ff;}#sk-container-id-6 div.sk-toggleable__content pre {margin: 0.2em;color: black;border-radius: 0.25em;background-color: #f0f8ff;}#sk-container-id-6 input.sk-toggleable__control:checked~div.sk-toggleable__content {max-height: 200px;max-width: 100%;overflow: auto;}#sk-container-id-6 input.sk-toggleable__control:checked~label.sk-toggleable__label-arrow:before {content: \"▾\";}#sk-container-id-6 div.sk-estimator input.sk-toggleable__control:checked~label.sk-toggleable__label {background-color: #d4ebff;}#sk-container-id-6 div.sk-label input.sk-toggleable__control:checked~label.sk-toggleable__label {background-color: #d4ebff;}#sk-container-id-6 input.sk-hidden--visually {border: 0;clip: rect(1px 1px 1px 1px);clip: rect(1px, 1px, 1px, 1px);height: 1px;margin: -1px;overflow: hidden;padding: 0;position: absolute;width: 1px;}#sk-container-id-6 div.sk-estimator {font-family: monospace;background-color: #f0f8ff;border: 1px dotted black;border-radius: 0.25em;box-sizing: border-box;margin-bottom: 0.5em;}#sk-container-id-6 div.sk-estimator:hover {background-color: #d4ebff;}#sk-container-id-6 div.sk-parallel-item::after {content: \"\";width: 100%;border-bottom: 1px solid gray;flex-grow: 1;}#sk-container-id-6 div.sk-label:hover label.sk-toggleable__label {background-color: #d4ebff;}#sk-container-id-6 div.sk-serial::before {content: \"\";position: absolute;border-left: 1px solid gray;box-sizing: border-box;top: 0;bottom: 0;left: 50%;z-index: 0;}#sk-container-id-6 div.sk-serial {display: flex;flex-direction: column;align-items: center;background-color: white;padding-right: 0.2em;padding-left: 0.2em;position: relative;}#sk-container-id-6 div.sk-item {position: relative;z-index: 1;}#sk-container-id-6 div.sk-parallel {display: flex;align-items: stretch;justify-content: center;background-color: white;position: relative;}#sk-container-id-6 div.sk-item::before, #sk-container-id-6 div.sk-parallel-item::before {content: \"\";position: absolute;border-left: 1px solid gray;box-sizing: border-box;top: 0;bottom: 0;left: 50%;z-index: -1;}#sk-container-id-6 div.sk-parallel-item {display: flex;flex-direction: column;z-index: 1;position: relative;background-color: white;}#sk-container-id-6 div.sk-parallel-item:first-child::after {align-self: flex-end;width: 50%;}#sk-container-id-6 div.sk-parallel-item:last-child::after {align-self: flex-start;width: 50%;}#sk-container-id-6 div.sk-parallel-item:only-child::after {width: 0;}#sk-container-id-6 div.sk-dashed-wrapped {border: 1px dashed gray;margin: 0 0.4em 0.5em 0.4em;box-sizing: border-box;padding-bottom: 0.4em;background-color: white;}#sk-container-id-6 div.sk-label label {font-family: monospace;font-weight: bold;display: inline-block;line-height: 1.2em;}#sk-container-id-6 div.sk-label-container {text-align: center;}#sk-container-id-6 div.sk-container {/* jupyter's `normalize.less` sets `[hidden] { display: none; }` but bootstrap.min.css set `[hidden] { display: none !important; }` so we also need the `!important` here to be able to override the default hidden behavior on the sphinx rendered scikit-learn.org. See: https://github.com/scikit-learn/scikit-learn/issues/21755 */display: inline-block !important;position: relative;}#sk-container-id-6 div.sk-text-repr-fallback {display: none;}</style><div id=\"sk-container-id-6\" class=\"sk-top-container\"><div class=\"sk-text-repr-fallback\"><pre>MLPClassifier(alpha=0.001, hidden_layer_sizes=(), max_iter=1000, random_state=1,\n",
              "              solver=&#x27;lbfgs&#x27;)</pre><b>In a Jupyter environment, please rerun this cell to show the HTML representation or trust the notebook. <br />On GitHub, the HTML representation is unable to render, please try loading this page with nbviewer.org.</b></div><div class=\"sk-container\" hidden><div class=\"sk-item\"><div class=\"sk-estimator sk-toggleable\"><input class=\"sk-toggleable__control sk-hidden--visually\" id=\"sk-estimator-id-6\" type=\"checkbox\" checked><label for=\"sk-estimator-id-6\" class=\"sk-toggleable__label sk-toggleable__label-arrow\">MLPClassifier</label><div class=\"sk-toggleable__content\"><pre>MLPClassifier(alpha=0.001, hidden_layer_sizes=(), max_iter=1000, random_state=1,\n",
              "              solver=&#x27;lbfgs&#x27;)</pre></div></div></div></div></div>"
            ]
          },
          "metadata": {},
          "execution_count": 265
        }
      ]
    },
    {
      "cell_type": "markdown",
      "source": [
        "#### A1.2.1"
      ],
      "metadata": {
        "id": "OUEh-lalpiJ0"
      }
    },
    {
      "cell_type": "code",
      "source": [
        "# TO RUN and submit in xsite\n",
        "print(clf.coefs_[0])"
      ],
      "metadata": {
        "colab": {
          "base_uri": "https://localhost:8080/"
        },
        "id": "ibRMRPOI_wSU",
        "outputId": "c80b8e92-7be4-4971-f5fe-52fce1260ac8"
      },
      "execution_count": null,
      "outputs": [
        {
          "output_type": "stream",
          "name": "stdout",
          "text": [
            "[[3.58988863]\n",
            " [2.66931339]]\n"
          ]
        }
      ]
    },
    {
      "cell_type": "markdown",
      "source": [
        "#### A1.2.2"
      ],
      "metadata": {
        "id": "Dr7dKsQQpn7s"
      }
    },
    {
      "cell_type": "code",
      "source": [
        "# TO RUN and submit in xsite\n",
        "print(clf.intercepts_[0])"
      ],
      "metadata": {
        "colab": {
          "base_uri": "https://localhost:8080/"
        },
        "id": "XDlWSVyXAhAd",
        "outputId": "3f37200d-aee7-43a4-b07e-cd1ff0410610"
      },
      "execution_count": null,
      "outputs": [
        {
          "output_type": "stream",
          "name": "stdout",
          "text": [
            "[0.36002615]\n"
          ]
        }
      ]
    },
    {
      "cell_type": "markdown",
      "source": [
        "#### A1.2.3"
      ],
      "metadata": {
        "id": "UURRQ371pqqg"
      }
    },
    {
      "cell_type": "code",
      "source": [
        "# TO RUN and submit in xsite\n",
        "clf.score(X_test, y_test)"
      ],
      "metadata": {
        "colab": {
          "base_uri": "https://localhost:8080/"
        },
        "id": "aFUIAlyw_2e9",
        "outputId": "ab005c6e-0f82-4940-d0b2-04a905c1ee4c"
      },
      "execution_count": null,
      "outputs": [
        {
          "output_type": "execute_result",
          "data": {
            "text/plain": [
              "0.9090909090909091"
            ]
          },
          "metadata": {},
          "execution_count": 268
        }
      ]
    },
    {
      "cell_type": "markdown",
      "source": [
        "#### A1.3 Create a simple perceptron using python. (5 marks)"
      ],
      "metadata": {
        "id": "V8-Nei7xp4xC"
      }
    },
    {
      "cell_type": "code",
      "source": [
        "#TODO Create the perceptron class\n",
        "class Perceptron:\n",
        "    def __init__(self):\n",
        "        self.weights = np.zeros((2, 1))\n",
        "        self.bias = np.zeros((1, 1))\n",
        "\n",
        "    def predict(self, inputs):\n",
        "        # Do the forward pass\n",
        "        weighted_sum = np.dot(inputs, self.weights) + self.bias\n",
        "        # Apply a step function (binary threshold) as the activation function. The value of t of the step function should be 0.\n",
        "        prediction = np.where(weighted_sum >= 0, 1, 0)\n",
        "        return prediction.flatten()\n",
        "\n",
        "    def train(self, inputs, targets, learning_rate=0.001, epochs=1000):\n",
        "        for epoch in range(epochs):\n",
        "            for i in range(len(inputs)):\n",
        "                # Forward pass\n",
        "                prediction = self.predict(inputs[i])\n",
        "                # Compute the error\n",
        "                error = targets[i] - prediction\n",
        "                # Update weights and bias\n",
        "                self.weights += learning_rate * error * inputs[i].reshape(-1, 1)\n",
        "                self.bias += learning_rate * error"
      ],
      "metadata": {
        "id": "3WA67JsoAyOT"
      },
      "execution_count": null,
      "outputs": []
    },
    {
      "cell_type": "code",
      "source": [
        "# Provided Code\n",
        "perceptron = Perceptron()\n",
        "\n",
        "# Train the perceptron\n",
        "perceptron.train(X_train, y_train, learning_rate=0.01, epochs=1000)\n",
        "\n",
        "# Make predictions\n",
        "predictions = perceptron.predict(X_train)\n",
        "correct = (predictions == y_train).sum().item()"
      ],
      "metadata": {
        "id": "GGYt9prcrkXj"
      },
      "execution_count": null,
      "outputs": []
    },
    {
      "cell_type": "markdown",
      "source": [
        "#### A1.3.1"
      ],
      "metadata": {
        "id": "Ied50T3ZqoM9"
      }
    },
    {
      "cell_type": "code",
      "source": [
        "# TO RUN and submit in xsite\n",
        "print(correct / y_train.shape[0])"
      ],
      "metadata": {
        "colab": {
          "base_uri": "https://localhost:8080/"
        },
        "id": "2HtBBpiQqnkD",
        "outputId": "750d59c7-e25a-460d-a53d-b6dd92833fc8"
      },
      "execution_count": null,
      "outputs": [
        {
          "output_type": "stream",
          "name": "stdout",
          "text": [
            "0.8805970149253731\n"
          ]
        }
      ]
    },
    {
      "cell_type": "markdown",
      "source": [],
      "metadata": {
        "id": "vtY3beScbM-4"
      }
    },
    {
      "cell_type": "markdown",
      "source": [
        "#### A1.4 Creation of Activation Functions (6 marks)"
      ],
      "metadata": {
        "id": "Ypxj3O21x7K2"
      }
    },
    {
      "cell_type": "code",
      "source": [
        "#TODO Create the Sigmoid class\n",
        "class Sigmoid():\n",
        "    def __init__(self):\n",
        "        return\n",
        "\n",
        "    def forward(self, x):\n",
        "        self.x = x\n",
        "        sigmoid_x = 1 / (1 + np.exp(-x))\n",
        "        return sigmoid_x\n",
        "\n",
        "    def derivative(self):\n",
        "        return self.forward(self.x) - self.forward(self.x) ** 2"
      ],
      "metadata": {
        "id": "FaUl__jr3Voc"
      },
      "execution_count": null,
      "outputs": []
    },
    {
      "cell_type": "code",
      "source": [
        "#TODO Create the tanh class\n",
        "class Tanh():\n",
        "    def __init__(self):\n",
        "        return\n",
        "\n",
        "    def forward(self, x):\n",
        "        self.x = x\n",
        "        tanh_x = np.sinh(x) / np.cosh(x)\n",
        "        return tanh_x\n",
        "\n",
        "    def derivative(self):\n",
        "        return 1 - self.forward(self.x) ** 2"
      ],
      "metadata": {
        "id": "jf-zqfMwtP5-"
      },
      "execution_count": null,
      "outputs": []
    },
    {
      "cell_type": "code",
      "source": [
        "#TODO Create the relu class\n",
        "class ReLU():\n",
        "    def __init__(self):\n",
        "        return\n",
        "\n",
        "    def forward(self, x):\n",
        "        self.x = x\n",
        "        relu_x = np.maximum(x, 0)\n",
        "        return relu_x\n",
        "\n",
        "    def derivative(self):\n",
        "        return np.where(self.forward(self.x) > 0, 1, 0)"
      ],
      "metadata": {
        "id": "2NttlMFc36xw"
      },
      "execution_count": null,
      "outputs": []
    },
    {
      "cell_type": "code",
      "source": [
        "# Provided Code\n",
        "sample_data = X_train[:5]\n",
        "\n",
        "sigmoid = Sigmoid()\n",
        "sample_data_sigmoid_forward = sigmoid.forward(sample_data)\n",
        "sample_data_sigmoid_derivative = sigmoid.derivative()\n",
        "\n",
        "tanh = Tanh()\n",
        "sample_data_tanh_forward = tanh.forward(sample_data)\n",
        "sample_data_tanh_derivative = tanh.derivative()\n",
        "\n",
        "relu = ReLU()\n",
        "sample_data_relu_forward = relu.forward(sample_data)\n",
        "sample_data_relu_derivative = relu.derivative()"
      ],
      "metadata": {
        "id": "elAALksTM33I"
      },
      "execution_count": null,
      "outputs": []
    },
    {
      "cell_type": "markdown",
      "source": [
        "#### A1.4.1"
      ],
      "metadata": {
        "id": "ldxhXrTMq-0_"
      }
    },
    {
      "cell_type": "code",
      "source": [
        "# TO RUN and submit in xsite\n",
        "print(sample_data_sigmoid_forward)"
      ],
      "metadata": {
        "colab": {
          "base_uri": "https://localhost:8080/"
        },
        "id": "qsZRSzYsq-FI",
        "outputId": "7ec81ce7-9a0a-4508-a628-318a4f470390"
      },
      "execution_count": null,
      "outputs": [
        {
          "output_type": "stream",
          "name": "stdout",
          "text": [
            "[[0.60897398 0.74372781]\n",
            " [0.1854121  0.69588999]\n",
            " [0.24943123 0.25435953]\n",
            " [0.74650705 0.48178757]\n",
            " [0.56268986 0.59616562]]\n"
          ]
        }
      ]
    },
    {
      "cell_type": "markdown",
      "source": [
        "#### A1.4.2"
      ],
      "metadata": {
        "id": "ZMb3kxVYrG1d"
      }
    },
    {
      "cell_type": "code",
      "source": [
        "# TO RUN and submit in xsite\n",
        "print(sample_data_sigmoid_derivative)"
      ],
      "metadata": {
        "colab": {
          "base_uri": "https://localhost:8080/"
        },
        "id": "v9fbAzeYM3-P",
        "outputId": "82c14755-b8b8-438e-a289-19d979c7f033"
      },
      "execution_count": null,
      "outputs": [
        {
          "output_type": "stream",
          "name": "stdout",
          "text": [
            "[[0.23812467 0.19059675]\n",
            " [0.15103445 0.21162711]\n",
            " [0.18721529 0.18966076]\n",
            " [0.18923427 0.24966831]\n",
            " [0.24606998 0.24075217]]\n"
          ]
        }
      ]
    },
    {
      "cell_type": "markdown",
      "source": [
        "#### A1.4.3"
      ],
      "metadata": {
        "id": "OhU32TXOxN2B"
      }
    },
    {
      "cell_type": "code",
      "source": [
        "# TO RUN and submit in xsite\n",
        "print(sample_data_tanh_forward)"
      ],
      "metadata": {
        "colab": {
          "base_uri": "https://localhost:8080/"
        },
        "id": "DD1RMOf-xFYZ",
        "outputId": "ae87771d-e2de-4248-fda8-fcda0c1071f4"
      },
      "execution_count": null,
      "outputs": [
        {
          "output_type": "stream",
          "name": "stdout",
          "text": [
            "[[ 0.41612925  0.78773514]\n",
            " [-0.90148699  0.67929407]\n",
            " [-0.80109022 -0.79152243]\n",
            " [ 0.79322471 -0.07275319]\n",
            " [ 0.2468785   0.37094088]]\n"
          ]
        }
      ]
    },
    {
      "cell_type": "markdown",
      "source": [
        "#### A1.4.4"
      ],
      "metadata": {
        "id": "dumsymGHxeLC"
      }
    },
    {
      "cell_type": "code",
      "source": [
        "# TO RUN and submit in xsite\n",
        "print(sample_data_tanh_derivative)"
      ],
      "metadata": {
        "colab": {
          "base_uri": "https://localhost:8080/"
        },
        "id": "7nQi_xmExG6L",
        "outputId": "1bdc51b8-7406-4585-ea24-a33775d38072"
      },
      "execution_count": null,
      "outputs": [
        {
          "output_type": "stream",
          "name": "stdout",
          "text": [
            "[[0.82683645 0.37947334]\n",
            " [0.1873212  0.53855956]\n",
            " [0.35825446 0.37349224]\n",
            " [0.37079456 0.99470697]\n",
            " [0.939051   0.86240286]]\n"
          ]
        }
      ]
    },
    {
      "cell_type": "markdown",
      "source": [
        "#### A1.4.5"
      ],
      "metadata": {
        "id": "Xmq8bCHtxh3I"
      }
    },
    {
      "cell_type": "code",
      "source": [
        "# TO RUN and submit in xsite\n",
        "print(sample_data_relu_forward)"
      ],
      "metadata": {
        "colab": {
          "base_uri": "https://localhost:8080/"
        },
        "id": "hNy96ddCxiff",
        "outputId": "c4f59751-b840-4e59-8670-0995d8e72265"
      },
      "execution_count": null,
      "outputs": [
        {
          "output_type": "stream",
          "name": "stdout",
          "text": [
            "[[0.44300146 1.065435  ]\n",
            " [0.         0.8278021 ]\n",
            " [0.         0.        ]\n",
            " [1.08006907 0.        ]\n",
            " [0.25208597 0.38951366]]\n"
          ]
        }
      ]
    },
    {
      "cell_type": "markdown",
      "source": [
        "#### A1.4.6"
      ],
      "metadata": {
        "id": "r_tojMNyxpkO"
      }
    },
    {
      "cell_type": "code",
      "source": [
        "# TO RUN and submit in xsite\n",
        "print(sample_data_relu_derivative)"
      ],
      "metadata": {
        "colab": {
          "base_uri": "https://localhost:8080/"
        },
        "id": "TnGzLwBdxnVm",
        "outputId": "0bf55dc4-8c29-4e9f-807e-dd113d2a19d6"
      },
      "execution_count": null,
      "outputs": [
        {
          "output_type": "stream",
          "name": "stdout",
          "text": [
            "[[1 1]\n",
            " [0 1]\n",
            " [0 0]\n",
            " [1 0]\n",
            " [1 1]]\n"
          ]
        }
      ]
    },
    {
      "cell_type": "markdown",
      "source": [
        "#### A1.5 Creation of Mean Square Error Loss Function (7 marks)"
      ],
      "metadata": {
        "id": "1dEwn3c-6Bie"
      }
    },
    {
      "cell_type": "code",
      "source": [
        "#TODO Class for MSELoss\n",
        "class MSELoss:\n",
        "    def forward(self, A, Y):\n",
        "        self.A = A\n",
        "        self.Y = Y\n",
        "        N = A.shape[0]\n",
        "        C = A.shape[1]\n",
        "        se = np.sum((A - Y))\n",
        "        sse = np.sum((A - Y) ** 2)\n",
        "        mse = (A - Y) * (A - Y) / (2 * N * C)\n",
        "\n",
        "        return mse\n",
        "\n",
        "    def backward(self):\n",
        "        dLdA = self.A - self.Y\n",
        "        return dLdA"
      ],
      "metadata": {
        "id": "QmUUJf5fAss_"
      },
      "execution_count": null,
      "outputs": []
    },
    {
      "cell_type": "code",
      "source": [
        "# Provided code\n",
        "mseless = MSELoss()\n",
        "\n",
        "from numpy import random\n",
        "\n",
        "N = 5\n",
        "C = 4\n",
        "\n",
        "random.seed(5)\n",
        "Y = random.random(size=(N, C))\n",
        "\n",
        "random.seed(8)\n",
        "A = Y + random.random(size=(N, C)) / 10"
      ],
      "metadata": {
        "id": "Cj1lHGDpdt_J"
      },
      "execution_count": null,
      "outputs": []
    },
    {
      "cell_type": "markdown",
      "source": [
        "#### A1.5.1"
      ],
      "metadata": {
        "id": "YaGOD8YNzB3Y"
      }
    },
    {
      "cell_type": "code",
      "source": [
        "# TO RUN and submit in xsite\n",
        "print(mseless.forward(A, Y))"
      ],
      "metadata": {
        "colab": {
          "base_uri": "https://localhost:8080/"
        },
        "id": "2DeYLDyTg1Eu",
        "outputId": "f4ddbb5b-6e38-46b0-caca-491e2c4cf440"
      },
      "execution_count": null,
      "outputs": [
        {
          "output_type": "stream",
          "name": "stdout",
          "text": [
            "[[1.90719730e-04 2.34517754e-04 1.88874787e-04 7.04519413e-05]\n",
            " [1.35406187e-05 3.24831847e-08 4.63258509e-05 4.04716542e-05]\n",
            " [6.82972030e-05 5.72146776e-05 7.71052033e-05 7.38170910e-05]\n",
            " [1.44740519e-04 1.26869383e-04 9.60014751e-05 4.53885492e-05]\n",
            " [2.08910930e-05 2.37098508e-04 2.78512784e-05 1.19684761e-05]]\n"
          ]
        }
      ]
    },
    {
      "cell_type": "markdown",
      "source": [
        "#### A1.5.2"
      ],
      "metadata": {
        "id": "TFtrykMvzGL5"
      }
    },
    {
      "cell_type": "code",
      "source": [
        "# TO RUN and submit in xsite\n",
        "print(mseless.backward())"
      ],
      "metadata": {
        "colab": {
          "base_uri": "https://localhost:8080/"
        },
        "id": "_ll8QTL1hUT0",
        "outputId": "ed83140d-1e92-4c94-f478-a96574fe9fff"
      },
      "execution_count": null,
      "outputs": [
        {
          "output_type": "stream",
          "name": "stdout",
          "text": [
            "[[0.08734294 0.09685407 0.08691945 0.05308557]\n",
            " [0.02327283 0.00113988 0.04304688 0.04023514]\n",
            " [0.05226747 0.04783918 0.05553565 0.0543386 ]\n",
            " [0.07608956 0.07123746 0.06196821 0.04260918]\n",
            " [0.0289075  0.09738552 0.0333774  0.02188011]]\n"
          ]
        }
      ]
    },
    {
      "cell_type": "markdown",
      "source": [
        "#### A1.6 and A1.7 (12 marks)"
      ],
      "metadata": {
        "id": "3q3QpiSSGaHK"
      }
    },
    {
      "cell_type": "code",
      "source": [
        "#TODO Class for single linear layer\n",
        "class Linear:\n",
        "    def __init__(self, in_features, out_features, debug=False):\n",
        "        self.W = np.ones((out_features, in_features), dtype=\"f\")\n",
        "        self.b = np.zeros((out_features, 1), dtype=\"f\")\n",
        "        self.dLdW = np.zeros((out_features, in_features), dtype=\"f\")\n",
        "        self.dLdb = np.zeros((out_features, 1), dtype=\"f\")\n",
        "\n",
        "    def forward(self, A):\n",
        "        self.A = A\n",
        "        self.N = A.shape[0]\n",
        "        self.Ones = np.ones((self.N, 1), dtype=\"f\")\n",
        "        Z = np.dot(A, self.W.T) + np.dot(self.Ones, self.b.T)\n",
        "\n",
        "        return Z\n",
        "\n",
        "    def backward(self, dLdZ):\n",
        "        dZdA = self.W.T\n",
        "        dZdW = self.A\n",
        "        dZdb = self.Ones\n",
        "        dLdA = np.dot(dLdZ, dZdA.T)\n",
        "        dLdW = np.dot(dLdZ.T, dZdW) / self.N\n",
        "        dLdb = np.dot(dLdZ.T, dZdb) / self.N\n",
        "        dLdi = None\n",
        "        dZdi = None\n",
        "\n",
        "        # Accumulate gradients\n",
        "        self.dLdW = dLdW\n",
        "        self.dLdb = dLdb\n",
        "\n",
        "        return dLdA"
      ],
      "metadata": {
        "id": "_sV-46-FJUXV"
      },
      "execution_count": null,
      "outputs": []
    },
    {
      "cell_type": "markdown",
      "source": [
        "#### A1.6.1"
      ],
      "metadata": {
        "id": "jM7LEvFEyqKZ"
      }
    },
    {
      "cell_type": "code",
      "source": [
        "# TO RUN and submit in xsite\n",
        "C_in = C\n",
        "C_out = 1\n",
        "linear_layer = Linear(C_in, C_out, True)\n",
        "Z = linear_layer.forward(A)\n",
        "print(Z)"
      ],
      "metadata": {
        "colab": {
          "base_uri": "https://localhost:8080/"
        },
        "id": "jtf5ysF5iK3d",
        "outputId": "c8386cc2-6f77-4f29-85f1-3a071ba71b66"
      },
      "execution_count": null,
      "outputs": [
        {
          "output_type": "stream",
          "name": "stdout",
          "text": [
            "[[2.54225757]\n",
            " [2.49217563]\n",
            " [1.51368419]\n",
            " [2.00554699]\n",
            " [2.10049121]]\n"
          ]
        }
      ]
    },
    {
      "cell_type": "markdown",
      "source": [
        "#### A1.6.2"
      ],
      "metadata": {
        "id": "z5120guvyvlm"
      }
    },
    {
      "cell_type": "code",
      "source": [
        "# TO RUN and submit in xsite\n",
        "random.seed(random_value2)\n",
        "Y = Z + random.random(size=(N, C_out)) / 10\n",
        "print(Y)"
      ],
      "metadata": {
        "colab": {
          "base_uri": "https://localhost:8080/"
        },
        "id": "XkNSBN7LM1S7",
        "outputId": "e3aed9e7-8861-49e4-9f80-1e6f3b4cdaaa"
      },
      "execution_count": null,
      "outputs": [
        {
          "output_type": "stream",
          "name": "stdout",
          "text": [
            "[[2.62904825]\n",
            " [2.57064592]\n",
            " [1.61131037]\n",
            " [2.0824219 ]\n",
            " [2.17404337]]\n"
          ]
        }
      ]
    },
    {
      "cell_type": "markdown",
      "source": [
        "#### A1.6.3"
      ],
      "metadata": {
        "id": "Nio7lQKXzOSf"
      }
    },
    {
      "cell_type": "code",
      "source": [
        "# TO RUN and submit in xsite\n",
        "mseless = MSELoss()\n",
        "mse_forward = mseless.forward(Z, Y)\n",
        "print(mse_forward)"
      ],
      "metadata": {
        "colab": {
          "base_uri": "https://localhost:8080/"
        },
        "id": "a7tBBb1D6vtd",
        "outputId": "b20f58e8-1e77-40f2-889a-13dfe312306a"
      },
      "execution_count": null,
      "outputs": [
        {
          "output_type": "stream",
          "name": "stdout",
          "text": [
            "[[0.00075326]\n",
            " [0.00061576]\n",
            " [0.00095309]\n",
            " [0.00059098]\n",
            " [0.00054099]]\n"
          ]
        }
      ]
    },
    {
      "cell_type": "markdown",
      "source": [
        "#### A1.6.4"
      ],
      "metadata": {
        "id": "IW1qevhEzbwg"
      }
    },
    {
      "cell_type": "code",
      "source": [
        "# TO RUN and submit in xsite\n",
        "dLdz = mseless.backward()\n",
        "dLdA = linear_layer.backward(dLdz)\n",
        "print(dLdA)"
      ],
      "metadata": {
        "colab": {
          "base_uri": "https://localhost:8080/"
        },
        "id": "X5drD1xcklUR",
        "outputId": "23be7211-5b9d-4911-b386-52875ba01b3b"
      },
      "execution_count": null,
      "outputs": [
        {
          "output_type": "stream",
          "name": "stdout",
          "text": [
            "[[-0.08679068 -0.08679068 -0.08679068 -0.08679068]\n",
            " [-0.07847029 -0.07847029 -0.07847029 -0.07847029]\n",
            " [-0.09762618 -0.09762618 -0.09762618 -0.09762618]\n",
            " [-0.07687491 -0.07687491 -0.07687491 -0.07687491]\n",
            " [-0.07355216 -0.07355216 -0.07355216 -0.07355216]]\n"
          ]
        }
      ]
    },
    {
      "cell_type": "markdown",
      "source": [
        "#### A1.6.5"
      ],
      "metadata": {
        "id": "AsFKUZ4bzc14"
      }
    },
    {
      "cell_type": "code",
      "source": [
        "# TO RUN and submit in xsite\n",
        "print(dLdz)"
      ],
      "metadata": {
        "id": "kNZQXEKO8EGB",
        "outputId": "cea07cf5-dfce-4394-e2d1-106b45ebe2f0",
        "colab": {
          "base_uri": "https://localhost:8080/"
        }
      },
      "execution_count": null,
      "outputs": [
        {
          "output_type": "stream",
          "name": "stdout",
          "text": [
            "[[-0.08679068]\n",
            " [-0.07847029]\n",
            " [-0.09762618]\n",
            " [-0.07687491]\n",
            " [-0.07355216]]\n"
          ]
        }
      ]
    },
    {
      "cell_type": "markdown",
      "source": [
        "#### A1.6.6"
      ],
      "metadata": {
        "id": "PhABClPizd_y"
      }
    },
    {
      "cell_type": "code",
      "source": [
        "# TO RUN and submit in xsite\n",
        "print(linear_layer.dLdW)"
      ],
      "metadata": {
        "colab": {
          "base_uri": "https://localhost:8080/"
        },
        "id": "PC2E_kX9SBpk",
        "outputId": "4d562569-0925-49d6-b07e-105c541494b7"
      },
      "execution_count": null,
      "outputs": [
        {
          "output_type": "stream",
          "name": "stdout",
          "text": [
            "[[-0.03468935 -0.04033083 -0.04467615 -0.05483429]]\n"
          ]
        }
      ]
    },
    {
      "cell_type": "markdown",
      "source": [
        "#### A1.6.7"
      ],
      "metadata": {
        "id": "pis04DbfzgIo"
      }
    },
    {
      "cell_type": "code",
      "source": [
        "# TO RUN and submit in xsite\n",
        "print(linear_layer.dLdb)"
      ],
      "metadata": {
        "colab": {
          "base_uri": "https://localhost:8080/"
        },
        "id": "G48AlPJmzfRa",
        "outputId": "17f78bca-2aae-4b6e-f92d-d68d704a1958"
      },
      "execution_count": null,
      "outputs": [
        {
          "output_type": "stream",
          "name": "stdout",
          "text": [
            "[[-0.08266284]]\n"
          ]
        }
      ]
    }
  ]
}